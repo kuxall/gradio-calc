{
 "cells": [
  {
   "cell_type": "code",
   "execution_count": null,
   "metadata": {},
   "outputs": [],
   "source": [
    "\n",
    "import gradio as gr\n",
    "\n",
    "def calculator(first_num, operation, second_num):\n",
    "    if operation == \"add\":\n",
    "        return first_num + second_num\n",
    "    elif operation == \"subtract\":\n",
    "        return first_num - second_num\n",
    "    elif operation == \"multiply\":\n",
    "        return first_num * second_num\n",
    "    elif operation == \"divide\":\n",
    "        return first_num / second_num\n",
    "\n",
    "gr.Interface(\n",
    "    calculator,\n",
    "    [gr.Slider(0,9999), gr.Radio([\"add\", \"subtract\", \"multiply\", \"divide\"]), gr.Slider(0,9999)],\n",
    "    \"number\",\n",
    "    examples=[\n",
    "        [5, \"add\", 3],\n",
    "        [4, \"divide\", 2],\n",
    "        [-4, \"multiply\", 2.5],\n",
    "        [0, \"subtract\", 1.2],\n",
    "    ],\n",
    "    live = True,\n",
    "    title=\"Slider calculator\",\n",
    "    description=\"\"\"Here is the simple Slider Calculator which let you to slide the number and perform the Operations!!, Enjoy The APP 😜 \"\"\",\n",
    "    flagging_options=[\"this\", \"or\", \"that\"],\n",
    ").launch()\n"
   ]
  }
 ],
 "metadata": {
  "language_info": {
   "name": "python"
  },
  "orig_nbformat": 4
 },
 "nbformat": 4,
 "nbformat_minor": 2
}
