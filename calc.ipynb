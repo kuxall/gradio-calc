
import gradio as gr

def calculator(first_num, operation, second_num):
    if operation == "add":
        return first_num + second_num
    elif operation == "subtract":
        return first_num - second_num
    elif operation == "multiply":
        return first_num * second_num
    elif operation == "divide":
        return first_num / second_num

gr.Interface(
    calculator,
    [gr.Slider(0,9999), gr.Radio(["add", "subtract", "multiply", "divide"]), gr.Slider(0,9999)],
    "number",
    examples=[
        [5, "add", 3],
        [4, "divide", 2],
        [-4, "multiply", 2.5],
        [0, "subtract", 1.2],
    ],
    live = True,
    title="Slider calculator",
    description="""Here is the simple Slider Calculator which let you to slide the number and perform the Operations!!, Enjoy The APP 😜 """,
    flagging_options=["this", "or", "that"],
).launch()
